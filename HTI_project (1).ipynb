{
  "cells": [
    {
      "cell_type": "markdown",
      "metadata": {
        "id": "YHysyKRSMhkd"
      },
      "source": [
        "## importing"
      ]
    },
    {
      "cell_type": "code",
      "execution_count": null,
      "metadata": {
        "id": "b7Z31tmo3i1_"
      },
      "outputs": [],
      "source": [
        "import time\n",
        "import numpy as np\n",
        "import gradio as gr\n",
        "import pandas as pd\n",
        "import seaborn as sns\n",
        "from io import BytesIO\n",
        "import matplotlib.pyplot as plt\n",
        "\n",
        "sns.set()"
      ]
    },
    {
      "cell_type": "code",
      "execution_count": null,
      "metadata": {
        "id": "q1L7Iy9X-KBh"
      },
      "outputs": [],
      "source": [
        "from imblearn.over_sampling import SMOTE\n",
        "from sklearn.preprocessing import StandardScaler\n",
        "from sklearn.model_selection import train_test_split, GridSearchCV,RandomizedSearchCV\n",
        "\n",
        "from sklearn.svm import SVR\n",
        "from xgboost import XGBRegressor\n",
        "from sklearn.tree import DecisionTreeRegressor\n",
        "from sklearn.neighbors import KNeighborsRegressor\n",
        "from sklearn.ensemble import RandomForestRegressor\n",
        "\n",
        "from sklearn.model_selection import cross_val_score\n",
        "from sklearn.feature_extraction.text import CountVectorizer\n",
        "from sklearn.metrics import mean_squared_error, r2_score, mean_absolute_error"
      ]
    },
    {
      "cell_type": "markdown",
      "metadata": {
        "id": "hESEQqTMMqg6"
      },
      "source": [
        "## reading dataset and uderstand it"
      ]
    },
    {
      "cell_type": "code",
      "execution_count": null,
      "metadata": {
        "colab": {
          "base_uri": "https://localhost:8080/",
          "height": 206
        },
        "id": "mPgXC77iH1Tb",
        "outputId": "103b59b6-88f8-4449-8b46-59dce8d0a40d"
      },
      "outputs": [
        {
          "output_type": "execute_result",
          "data": {
            "text/plain": [
              "   Year                                     113 Cause Name  \\\n",
              "0  2017  Accidents (unintentional injuries) (V01-X59,Y8...   \n",
              "1  2017  Accidents (unintentional injuries) (V01-X59,Y8...   \n",
              "2  2017  Accidents (unintentional injuries) (V01-X59,Y8...   \n",
              "3  2017  Accidents (unintentional injuries) (V01-X59,Y8...   \n",
              "4  2017  Accidents (unintentional injuries) (V01-X59,Y8...   \n",
              "\n",
              "               Cause Name          State  Deaths  Age-adjusted Death Rate  \n",
              "0  Unintentional injuries  United States  169936                     49.4  \n",
              "1  Unintentional injuries        Alabama    2703                     53.8  \n",
              "2  Unintentional injuries         Alaska     436                     63.7  \n",
              "3  Unintentional injuries        Arizona    4184                     56.2  \n",
              "4  Unintentional injuries       Arkansas    1625                     51.8  "
            ],
            "text/html": [
              "\n",
              "  <div id=\"df-d390d7ba-6f6d-41dc-a637-2d44c1ad4f7f\" class=\"colab-df-container\">\n",
              "    <div>\n",
              "<style scoped>\n",
              "    .dataframe tbody tr th:only-of-type {\n",
              "        vertical-align: middle;\n",
              "    }\n",
              "\n",
              "    .dataframe tbody tr th {\n",
              "        vertical-align: top;\n",
              "    }\n",
              "\n",
              "    .dataframe thead th {\n",
              "        text-align: right;\n",
              "    }\n",
              "</style>\n",
              "<table border=\"1\" class=\"dataframe\">\n",
              "  <thead>\n",
              "    <tr style=\"text-align: right;\">\n",
              "      <th></th>\n",
              "      <th>Year</th>\n",
              "      <th>113 Cause Name</th>\n",
              "      <th>Cause Name</th>\n",
              "      <th>State</th>\n",
              "      <th>Deaths</th>\n",
              "      <th>Age-adjusted Death Rate</th>\n",
              "    </tr>\n",
              "  </thead>\n",
              "  <tbody>\n",
              "    <tr>\n",
              "      <th>0</th>\n",
              "      <td>2017</td>\n",
              "      <td>Accidents (unintentional injuries) (V01-X59,Y8...</td>\n",
              "      <td>Unintentional injuries</td>\n",
              "      <td>United States</td>\n",
              "      <td>169936</td>\n",
              "      <td>49.4</td>\n",
              "    </tr>\n",
              "    <tr>\n",
              "      <th>1</th>\n",
              "      <td>2017</td>\n",
              "      <td>Accidents (unintentional injuries) (V01-X59,Y8...</td>\n",
              "      <td>Unintentional injuries</td>\n",
              "      <td>Alabama</td>\n",
              "      <td>2703</td>\n",
              "      <td>53.8</td>\n",
              "    </tr>\n",
              "    <tr>\n",
              "      <th>2</th>\n",
              "      <td>2017</td>\n",
              "      <td>Accidents (unintentional injuries) (V01-X59,Y8...</td>\n",
              "      <td>Unintentional injuries</td>\n",
              "      <td>Alaska</td>\n",
              "      <td>436</td>\n",
              "      <td>63.7</td>\n",
              "    </tr>\n",
              "    <tr>\n",
              "      <th>3</th>\n",
              "      <td>2017</td>\n",
              "      <td>Accidents (unintentional injuries) (V01-X59,Y8...</td>\n",
              "      <td>Unintentional injuries</td>\n",
              "      <td>Arizona</td>\n",
              "      <td>4184</td>\n",
              "      <td>56.2</td>\n",
              "    </tr>\n",
              "    <tr>\n",
              "      <th>4</th>\n",
              "      <td>2017</td>\n",
              "      <td>Accidents (unintentional injuries) (V01-X59,Y8...</td>\n",
              "      <td>Unintentional injuries</td>\n",
              "      <td>Arkansas</td>\n",
              "      <td>1625</td>\n",
              "      <td>51.8</td>\n",
              "    </tr>\n",
              "  </tbody>\n",
              "</table>\n",
              "</div>\n",
              "    <div class=\"colab-df-buttons\">\n",
              "\n",
              "  <div class=\"colab-df-container\">\n",
              "    <button class=\"colab-df-convert\" onclick=\"convertToInteractive('df-d390d7ba-6f6d-41dc-a637-2d44c1ad4f7f')\"\n",
              "            title=\"Convert this dataframe to an interactive table.\"\n",
              "            style=\"display:none;\">\n",
              "\n",
              "  <svg xmlns=\"http://www.w3.org/2000/svg\" height=\"24px\" viewBox=\"0 -960 960 960\">\n",
              "    <path d=\"M120-120v-720h720v720H120Zm60-500h600v-160H180v160Zm220 220h160v-160H400v160Zm0 220h160v-160H400v160ZM180-400h160v-160H180v160Zm440 0h160v-160H620v160ZM180-180h160v-160H180v160Zm440 0h160v-160H620v160Z\"/>\n",
              "  </svg>\n",
              "    </button>\n",
              "\n",
              "  <style>\n",
              "    .colab-df-container {\n",
              "      display:flex;\n",
              "      gap: 12px;\n",
              "    }\n",
              "\n",
              "    .colab-df-convert {\n",
              "      background-color: #E8F0FE;\n",
              "      border: none;\n",
              "      border-radius: 50%;\n",
              "      cursor: pointer;\n",
              "      display: none;\n",
              "      fill: #1967D2;\n",
              "      height: 32px;\n",
              "      padding: 0 0 0 0;\n",
              "      width: 32px;\n",
              "    }\n",
              "\n",
              "    .colab-df-convert:hover {\n",
              "      background-color: #E2EBFA;\n",
              "      box-shadow: 0px 1px 2px rgba(60, 64, 67, 0.3), 0px 1px 3px 1px rgba(60, 64, 67, 0.15);\n",
              "      fill: #174EA6;\n",
              "    }\n",
              "\n",
              "    .colab-df-buttons div {\n",
              "      margin-bottom: 4px;\n",
              "    }\n",
              "\n",
              "    [theme=dark] .colab-df-convert {\n",
              "      background-color: #3B4455;\n",
              "      fill: #D2E3FC;\n",
              "    }\n",
              "\n",
              "    [theme=dark] .colab-df-convert:hover {\n",
              "      background-color: #434B5C;\n",
              "      box-shadow: 0px 1px 3px 1px rgba(0, 0, 0, 0.15);\n",
              "      filter: drop-shadow(0px 1px 2px rgba(0, 0, 0, 0.3));\n",
              "      fill: #FFFFFF;\n",
              "    }\n",
              "  </style>\n",
              "\n",
              "    <script>\n",
              "      const buttonEl =\n",
              "        document.querySelector('#df-d390d7ba-6f6d-41dc-a637-2d44c1ad4f7f button.colab-df-convert');\n",
              "      buttonEl.style.display =\n",
              "        google.colab.kernel.accessAllowed ? 'block' : 'none';\n",
              "\n",
              "      async function convertToInteractive(key) {\n",
              "        const element = document.querySelector('#df-d390d7ba-6f6d-41dc-a637-2d44c1ad4f7f');\n",
              "        const dataTable =\n",
              "          await google.colab.kernel.invokeFunction('convertToInteractive',\n",
              "                                                    [key], {});\n",
              "        if (!dataTable) return;\n",
              "\n",
              "        const docLinkHtml = 'Like what you see? Visit the ' +\n",
              "          '<a target=\"_blank\" href=https://colab.research.google.com/notebooks/data_table.ipynb>data table notebook</a>'\n",
              "          + ' to learn more about interactive tables.';\n",
              "        element.innerHTML = '';\n",
              "        dataTable['output_type'] = 'display_data';\n",
              "        await google.colab.output.renderOutput(dataTable, element);\n",
              "        const docLink = document.createElement('div');\n",
              "        docLink.innerHTML = docLinkHtml;\n",
              "        element.appendChild(docLink);\n",
              "      }\n",
              "    </script>\n",
              "  </div>\n",
              "\n",
              "\n",
              "    <div id=\"df-72bb4468-5601-4758-a5c9-e94a9ab99770\">\n",
              "      <button class=\"colab-df-quickchart\" onclick=\"quickchart('df-72bb4468-5601-4758-a5c9-e94a9ab99770')\"\n",
              "                title=\"Suggest charts\"\n",
              "                style=\"display:none;\">\n",
              "\n",
              "<svg xmlns=\"http://www.w3.org/2000/svg\" height=\"24px\"viewBox=\"0 0 24 24\"\n",
              "     width=\"24px\">\n",
              "    <g>\n",
              "        <path d=\"M19 3H5c-1.1 0-2 .9-2 2v14c0 1.1.9 2 2 2h14c1.1 0 2-.9 2-2V5c0-1.1-.9-2-2-2zM9 17H7v-7h2v7zm4 0h-2V7h2v10zm4 0h-2v-4h2v4z\"/>\n",
              "    </g>\n",
              "</svg>\n",
              "      </button>\n",
              "\n",
              "<style>\n",
              "  .colab-df-quickchart {\n",
              "      --bg-color: #E8F0FE;\n",
              "      --fill-color: #1967D2;\n",
              "      --hover-bg-color: #E2EBFA;\n",
              "      --hover-fill-color: #174EA6;\n",
              "      --disabled-fill-color: #AAA;\n",
              "      --disabled-bg-color: #DDD;\n",
              "  }\n",
              "\n",
              "  [theme=dark] .colab-df-quickchart {\n",
              "      --bg-color: #3B4455;\n",
              "      --fill-color: #D2E3FC;\n",
              "      --hover-bg-color: #434B5C;\n",
              "      --hover-fill-color: #FFFFFF;\n",
              "      --disabled-bg-color: #3B4455;\n",
              "      --disabled-fill-color: #666;\n",
              "  }\n",
              "\n",
              "  .colab-df-quickchart {\n",
              "    background-color: var(--bg-color);\n",
              "    border: none;\n",
              "    border-radius: 50%;\n",
              "    cursor: pointer;\n",
              "    display: none;\n",
              "    fill: var(--fill-color);\n",
              "    height: 32px;\n",
              "    padding: 0;\n",
              "    width: 32px;\n",
              "  }\n",
              "\n",
              "  .colab-df-quickchart:hover {\n",
              "    background-color: var(--hover-bg-color);\n",
              "    box-shadow: 0 1px 2px rgba(60, 64, 67, 0.3), 0 1px 3px 1px rgba(60, 64, 67, 0.15);\n",
              "    fill: var(--button-hover-fill-color);\n",
              "  }\n",
              "\n",
              "  .colab-df-quickchart-complete:disabled,\n",
              "  .colab-df-quickchart-complete:disabled:hover {\n",
              "    background-color: var(--disabled-bg-color);\n",
              "    fill: var(--disabled-fill-color);\n",
              "    box-shadow: none;\n",
              "  }\n",
              "\n",
              "  .colab-df-spinner {\n",
              "    border: 2px solid var(--fill-color);\n",
              "    border-color: transparent;\n",
              "    border-bottom-color: var(--fill-color);\n",
              "    animation:\n",
              "      spin 1s steps(1) infinite;\n",
              "  }\n",
              "\n",
              "  @keyframes spin {\n",
              "    0% {\n",
              "      border-color: transparent;\n",
              "      border-bottom-color: var(--fill-color);\n",
              "      border-left-color: var(--fill-color);\n",
              "    }\n",
              "    20% {\n",
              "      border-color: transparent;\n",
              "      border-left-color: var(--fill-color);\n",
              "      border-top-color: var(--fill-color);\n",
              "    }\n",
              "    30% {\n",
              "      border-color: transparent;\n",
              "      border-left-color: var(--fill-color);\n",
              "      border-top-color: var(--fill-color);\n",
              "      border-right-color: var(--fill-color);\n",
              "    }\n",
              "    40% {\n",
              "      border-color: transparent;\n",
              "      border-right-color: var(--fill-color);\n",
              "      border-top-color: var(--fill-color);\n",
              "    }\n",
              "    60% {\n",
              "      border-color: transparent;\n",
              "      border-right-color: var(--fill-color);\n",
              "    }\n",
              "    80% {\n",
              "      border-color: transparent;\n",
              "      border-right-color: var(--fill-color);\n",
              "      border-bottom-color: var(--fill-color);\n",
              "    }\n",
              "    90% {\n",
              "      border-color: transparent;\n",
              "      border-bottom-color: var(--fill-color);\n",
              "    }\n",
              "  }\n",
              "</style>\n",
              "\n",
              "      <script>\n",
              "        async function quickchart(key) {\n",
              "          const quickchartButtonEl =\n",
              "            document.querySelector('#' + key + ' button');\n",
              "          quickchartButtonEl.disabled = true;  // To prevent multiple clicks.\n",
              "          quickchartButtonEl.classList.add('colab-df-spinner');\n",
              "          try {\n",
              "            const charts = await google.colab.kernel.invokeFunction(\n",
              "                'suggestCharts', [key], {});\n",
              "          } catch (error) {\n",
              "            console.error('Error during call to suggestCharts:', error);\n",
              "          }\n",
              "          quickchartButtonEl.classList.remove('colab-df-spinner');\n",
              "          quickchartButtonEl.classList.add('colab-df-quickchart-complete');\n",
              "        }\n",
              "        (() => {\n",
              "          let quickchartButtonEl =\n",
              "            document.querySelector('#df-72bb4468-5601-4758-a5c9-e94a9ab99770 button');\n",
              "          quickchartButtonEl.style.display =\n",
              "            google.colab.kernel.accessAllowed ? 'block' : 'none';\n",
              "        })();\n",
              "      </script>\n",
              "    </div>\n",
              "\n",
              "    </div>\n",
              "  </div>\n"
            ],
            "application/vnd.google.colaboratory.intrinsic+json": {
              "type": "dataframe",
              "variable_name": "df",
              "summary": "{\n  \"name\": \"df\",\n  \"rows\": 10868,\n  \"fields\": [\n    {\n      \"column\": \"Year\",\n      \"properties\": {\n        \"dtype\": \"number\",\n        \"std\": 5,\n        \"min\": 1999,\n        \"max\": 2017,\n        \"num_unique_values\": 19,\n        \"samples\": [\n          2017,\n          2013,\n          2006\n        ],\n        \"semantic_type\": \"\",\n        \"description\": \"\"\n      }\n    },\n    {\n      \"column\": \"113 Cause Name\",\n      \"properties\": {\n        \"dtype\": \"category\",\n        \"num_unique_values\": 11,\n        \"samples\": [\n          \"Diabetes mellitus (E10-E14)\",\n          \"Accidents (unintentional injuries) (V01-X59,Y85-Y86)\",\n          \"Malignant neoplasms (C00-C97)\"\n        ],\n        \"semantic_type\": \"\",\n        \"description\": \"\"\n      }\n    },\n    {\n      \"column\": \"Cause Name\",\n      \"properties\": {\n        \"dtype\": \"category\",\n        \"num_unique_values\": 11,\n        \"samples\": [\n          \"Diabetes\",\n          \"Unintentional injuries\",\n          \"Cancer\"\n        ],\n        \"semantic_type\": \"\",\n        \"description\": \"\"\n      }\n    },\n    {\n      \"column\": \"State\",\n      \"properties\": {\n        \"dtype\": \"category\",\n        \"num_unique_values\": 52,\n        \"samples\": [\n          \"Louisiana\",\n          \"South Carolina\",\n          \"Virginia\"\n        ],\n        \"semantic_type\": \"\",\n        \"description\": \"\"\n      }\n    },\n    {\n      \"column\": \"Deaths\",\n      \"properties\": {\n        \"dtype\": \"number\",\n        \"std\": 112876,\n        \"min\": 21,\n        \"max\": 2813503,\n        \"num_unique_values\": 5964,\n        \"samples\": [\n          15264,\n          1084,\n          7895\n        ],\n        \"semantic_type\": \"\",\n        \"description\": \"\"\n      }\n    },\n    {\n      \"column\": \"Age-adjusted Death Rate\",\n      \"properties\": {\n        \"dtype\": \"number\",\n        \"std\": 223.63977149865391,\n        \"min\": 2.6,\n        \"max\": 1087.3,\n        \"num_unique_values\": 2490,\n        \"samples\": [\n          674.2,\n          721.1,\n          142.2\n        ],\n        \"semantic_type\": \"\",\n        \"description\": \"\"\n      }\n    }\n  ]\n}"
            }
          },
          "metadata": {},
          "execution_count": 3
        }
      ],
      "source": [
        "df = pd.read_csv('../death/causes-of-death.csv')\n",
        "df.head()"
      ]
    },
    {
      "cell_type": "code",
      "execution_count": null,
      "metadata": {
        "colab": {
          "base_uri": "https://localhost:8080/"
        },
        "id": "V9sn5qfDH55b",
        "outputId": "a800060a-8dbe-4190-9702-68a00ca36f70"
      },
      "outputs": [
        {
          "output_type": "stream",
          "name": "stdout",
          "text": [
            "<class 'pandas.core.frame.DataFrame'>\n",
            "RangeIndex: 10868 entries, 0 to 10867\n",
            "Data columns (total 6 columns):\n",
            " #   Column                   Non-Null Count  Dtype  \n",
            "---  ------                   --------------  -----  \n",
            " 0   Year                     10868 non-null  int64  \n",
            " 1   113 Cause Name           10868 non-null  object \n",
            " 2   Cause Name               10868 non-null  object \n",
            " 3   State                    10868 non-null  object \n",
            " 4   Deaths                   10868 non-null  int64  \n",
            " 5   Age-adjusted Death Rate  10868 non-null  float64\n",
            "dtypes: float64(1), int64(2), object(3)\n",
            "memory usage: 509.6+ KB\n"
          ]
        }
      ],
      "source": [
        "df.info()"
      ]
    },
    {
      "cell_type": "markdown",
      "metadata": {
        "id": "pXNPMVtvM7wR"
      },
      "source": [
        "### checking for nulls and duplicates"
      ]
    },
    {
      "cell_type": "markdown",
      "metadata": {
        "id": "ZxwIjI_YM7oG"
      },
      "source": []
    },
    {
      "cell_type": "code",
      "execution_count": null,
      "metadata": {
        "colab": {
          "base_uri": "https://localhost:8080/",
          "height": 273
        },
        "id": "YLa6IKqNH-ua",
        "outputId": "e1a3d45f-b9be-4efc-d119-8fd153b097a9"
      },
      "outputs": [
        {
          "output_type": "execute_result",
          "data": {
            "text/plain": [
              "Year                       0\n",
              "113 Cause Name             0\n",
              "Cause Name                 0\n",
              "State                      0\n",
              "Deaths                     0\n",
              "Age-adjusted Death Rate    0\n",
              "dtype: int64"
            ],
            "text/html": [
              "<div>\n",
              "<style scoped>\n",
              "    .dataframe tbody tr th:only-of-type {\n",
              "        vertical-align: middle;\n",
              "    }\n",
              "\n",
              "    .dataframe tbody tr th {\n",
              "        vertical-align: top;\n",
              "    }\n",
              "\n",
              "    .dataframe thead th {\n",
              "        text-align: right;\n",
              "    }\n",
              "</style>\n",
              "<table border=\"1\" class=\"dataframe\">\n",
              "  <thead>\n",
              "    <tr style=\"text-align: right;\">\n",
              "      <th></th>\n",
              "      <th>0</th>\n",
              "    </tr>\n",
              "  </thead>\n",
              "  <tbody>\n",
              "    <tr>\n",
              "      <th>Year</th>\n",
              "      <td>0</td>\n",
              "    </tr>\n",
              "    <tr>\n",
              "      <th>113 Cause Name</th>\n",
              "      <td>0</td>\n",
              "    </tr>\n",
              "    <tr>\n",
              "      <th>Cause Name</th>\n",
              "      <td>0</td>\n",
              "    </tr>\n",
              "    <tr>\n",
              "      <th>State</th>\n",
              "      <td>0</td>\n",
              "    </tr>\n",
              "    <tr>\n",
              "      <th>Deaths</th>\n",
              "      <td>0</td>\n",
              "    </tr>\n",
              "    <tr>\n",
              "      <th>Age-adjusted Death Rate</th>\n",
              "      <td>0</td>\n",
              "    </tr>\n",
              "  </tbody>\n",
              "</table>\n",
              "</div><br><label><b>dtype:</b> int64</label>"
            ]
          },
          "metadata": {},
          "execution_count": 5
        }
      ],
      "source": [
        "df.isnull().sum()"
      ]
    },
    {
      "cell_type": "code",
      "execution_count": null,
      "metadata": {
        "colab": {
          "base_uri": "https://localhost:8080/"
        },
        "id": "2QH8DsbMIF-A",
        "outputId": "32c1fc28-8200-4c5f-9f65-ddb5c3139f05"
      },
      "outputs": [
        {
          "output_type": "execute_result",
          "data": {
            "text/plain": [
              "np.int64(0)"
            ]
          },
          "metadata": {},
          "execution_count": 6
        }
      ],
      "source": [
        "df.duplicated().sum()"
      ]
    },
    {
      "cell_type": "code",
      "execution_count": null,
      "metadata": {
        "id": "s2XR_RD0IJTW"
      },
      "outputs": [],
      "source": [
        "df = df.drop(columns = ['113 Cause Name'])"
      ]
    },
    {
      "cell_type": "code",
      "execution_count": null,
      "metadata": {
        "colab": {
          "base_uri": "https://localhost:8080/",
          "height": 424
        },
        "id": "U8UTuStgJJ_J",
        "outputId": "9410335f-7b13-422b-ee16-4f06c3d97db6"
      },
      "outputs": [
        {
          "output_type": "execute_result",
          "data": {
            "text/plain": [
              "       Year              Cause Name          State  Deaths  \\\n",
              "0      2017  Unintentional injuries  United States  169936   \n",
              "1      2017  Unintentional injuries        Alabama    2703   \n",
              "2      2017  Unintentional injuries         Alaska     436   \n",
              "3      2017  Unintentional injuries        Arizona    4184   \n",
              "4      2017  Unintentional injuries       Arkansas    1625   \n",
              "...     ...                     ...            ...     ...   \n",
              "10863  1999          Kidney disease       Virginia    1035   \n",
              "10864  1999          Kidney disease     Washington     278   \n",
              "10865  1999          Kidney disease  West Virginia     345   \n",
              "10866  1999          Kidney disease      Wisconsin     677   \n",
              "10867  1999          Kidney disease        Wyoming      30   \n",
              "\n",
              "       Age-adjusted Death Rate  \n",
              "0                         49.4  \n",
              "1                         53.8  \n",
              "2                         63.7  \n",
              "3                         56.2  \n",
              "4                         51.8  \n",
              "...                        ...  \n",
              "10863                     16.9  \n",
              "10864                      5.2  \n",
              "10865                     16.4  \n",
              "10866                     11.9  \n",
              "10867                      6.8  \n",
              "\n",
              "[10868 rows x 5 columns]"
            ],
            "text/html": [
              "\n",
              "  <div id=\"df-55760c1d-701b-4c69-84d9-6c56653099f2\" class=\"colab-df-container\">\n",
              "    <div>\n",
              "<style scoped>\n",
              "    .dataframe tbody tr th:only-of-type {\n",
              "        vertical-align: middle;\n",
              "    }\n",
              "\n",
              "    .dataframe tbody tr th {\n",
              "        vertical-align: top;\n",
              "    }\n",
              "\n",
              "    .dataframe thead th {\n",
              "        text-align: right;\n",
              "    }\n",
              "</style>\n",
              "<table border=\"1\" class=\"dataframe\">\n",
              "  <thead>\n",
              "    <tr style=\"text-align: right;\">\n",
              "      <th></th>\n",
              "      <th>Year</th>\n",
              "      <th>Cause Name</th>\n",
              "      <th>State</th>\n",
              "      <th>Deaths</th>\n",
              "      <th>Age-adjusted Death Rate</th>\n",
              "    </tr>\n",
              "  </thead>\n",
              "  <tbody>\n",
              "    <tr>\n",
              "      <th>0</th>\n",
              "      <td>2017</td>\n",
              "      <td>Unintentional injuries</td>\n",
              "      <td>United States</td>\n",
              "      <td>169936</td>\n",
              "      <td>49.4</td>\n",
              "    </tr>\n",
              "    <tr>\n",
              "      <th>1</th>\n",
              "      <td>2017</td>\n",
              "      <td>Unintentional injuries</td>\n",
              "      <td>Alabama</td>\n",
              "      <td>2703</td>\n",
              "      <td>53.8</td>\n",
              "    </tr>\n",
              "    <tr>\n",
              "      <th>2</th>\n",
              "      <td>2017</td>\n",
              "      <td>Unintentional injuries</td>\n",
              "      <td>Alaska</td>\n",
              "      <td>436</td>\n",
              "      <td>63.7</td>\n",
              "    </tr>\n",
              "    <tr>\n",
              "      <th>3</th>\n",
              "      <td>2017</td>\n",
              "      <td>Unintentional injuries</td>\n",
              "      <td>Arizona</td>\n",
              "      <td>4184</td>\n",
              "      <td>56.2</td>\n",
              "    </tr>\n",
              "    <tr>\n",
              "      <th>4</th>\n",
              "      <td>2017</td>\n",
              "      <td>Unintentional injuries</td>\n",
              "      <td>Arkansas</td>\n",
              "      <td>1625</td>\n",
              "      <td>51.8</td>\n",
              "    </tr>\n",
              "    <tr>\n",
              "      <th>...</th>\n",
              "      <td>...</td>\n",
              "      <td>...</td>\n",
              "      <td>...</td>\n",
              "      <td>...</td>\n",
              "      <td>...</td>\n",
              "    </tr>\n",
              "    <tr>\n",
              "      <th>10863</th>\n",
              "      <td>1999</td>\n",
              "      <td>Kidney disease</td>\n",
              "      <td>Virginia</td>\n",
              "      <td>1035</td>\n",
              "      <td>16.9</td>\n",
              "    </tr>\n",
              "    <tr>\n",
              "      <th>10864</th>\n",
              "      <td>1999</td>\n",
              "      <td>Kidney disease</td>\n",
              "      <td>Washington</td>\n",
              "      <td>278</td>\n",
              "      <td>5.2</td>\n",
              "    </tr>\n",
              "    <tr>\n",
              "      <th>10865</th>\n",
              "      <td>1999</td>\n",
              "      <td>Kidney disease</td>\n",
              "      <td>West Virginia</td>\n",
              "      <td>345</td>\n",
              "      <td>16.4</td>\n",
              "    </tr>\n",
              "    <tr>\n",
              "      <th>10866</th>\n",
              "      <td>1999</td>\n",
              "      <td>Kidney disease</td>\n",
              "      <td>Wisconsin</td>\n",
              "      <td>677</td>\n",
              "      <td>11.9</td>\n",
              "    </tr>\n",
              "    <tr>\n",
              "      <th>10867</th>\n",
              "      <td>1999</td>\n",
              "      <td>Kidney disease</td>\n",
              "      <td>Wyoming</td>\n",
              "      <td>30</td>\n",
              "      <td>6.8</td>\n",
              "    </tr>\n",
              "  </tbody>\n",
              "</table>\n",
              "<p>10868 rows × 5 columns</p>\n",
              "</div>\n",
              "    <div class=\"colab-df-buttons\">\n",
              "\n",
              "  <div class=\"colab-df-container\">\n",
              "    <button class=\"colab-df-convert\" onclick=\"convertToInteractive('df-55760c1d-701b-4c69-84d9-6c56653099f2')\"\n",
              "            title=\"Convert this dataframe to an interactive table.\"\n",
              "            style=\"display:none;\">\n",
              "\n",
              "  <svg xmlns=\"http://www.w3.org/2000/svg\" height=\"24px\" viewBox=\"0 -960 960 960\">\n",
              "    <path d=\"M120-120v-720h720v720H120Zm60-500h600v-160H180v160Zm220 220h160v-160H400v160Zm0 220h160v-160H400v160ZM180-400h160v-160H180v160Zm440 0h160v-160H620v160ZM180-180h160v-160H180v160Zm440 0h160v-160H620v160Z\"/>\n",
              "  </svg>\n",
              "    </button>\n",
              "\n",
              "  <style>\n",
              "    .colab-df-container {\n",
              "      display:flex;\n",
              "      gap: 12px;\n",
              "    }\n",
              "\n",
              "    .colab-df-convert {\n",
              "      background-color: #E8F0FE;\n",
              "      border: none;\n",
              "      border-radius: 50%;\n",
              "      cursor: pointer;\n",
              "      display: none;\n",
              "      fill: #1967D2;\n",
              "      height: 32px;\n",
              "      padding: 0 0 0 0;\n",
              "      width: 32px;\n",
              "    }\n",
              "\n",
              "    .colab-df-convert:hover {\n",
              "      background-color: #E2EBFA;\n",
              "      box-shadow: 0px 1px 2px rgba(60, 64, 67, 0.3), 0px 1px 3px 1px rgba(60, 64, 67, 0.15);\n",
              "      fill: #174EA6;\n",
              "    }\n",
              "\n",
              "    .colab-df-buttons div {\n",
              "      margin-bottom: 4px;\n",
              "    }\n",
              "\n",
              "    [theme=dark] .colab-df-convert {\n",
              "      background-color: #3B4455;\n",
              "      fill: #D2E3FC;\n",
              "    }\n",
              "\n",
              "    [theme=dark] .colab-df-convert:hover {\n",
              "      background-color: #434B5C;\n",
              "      box-shadow: 0px 1px 3px 1px rgba(0, 0, 0, 0.15);\n",
              "      filter: drop-shadow(0px 1px 2px rgba(0, 0, 0, 0.3));\n",
              "      fill: #FFFFFF;\n",
              "    }\n",
              "  </style>\n",
              "\n",
              "    <script>\n",
              "      const buttonEl =\n",
              "        document.querySelector('#df-55760c1d-701b-4c69-84d9-6c56653099f2 button.colab-df-convert');\n",
              "      buttonEl.style.display =\n",
              "        google.colab.kernel.accessAllowed ? 'block' : 'none';\n",
              "\n",
              "      async function convertToInteractive(key) {\n",
              "        const element = document.querySelector('#df-55760c1d-701b-4c69-84d9-6c56653099f2');\n",
              "        const dataTable =\n",
              "          await google.colab.kernel.invokeFunction('convertToInteractive',\n",
              "                                                    [key], {});\n",
              "        if (!dataTable) return;\n",
              "\n",
              "        const docLinkHtml = 'Like what you see? Visit the ' +\n",
              "          '<a target=\"_blank\" href=https://colab.research.google.com/notebooks/data_table.ipynb>data table notebook</a>'\n",
              "          + ' to learn more about interactive tables.';\n",
              "        element.innerHTML = '';\n",
              "        dataTable['output_type'] = 'display_data';\n",
              "        await google.colab.output.renderOutput(dataTable, element);\n",
              "        const docLink = document.createElement('div');\n",
              "        docLink.innerHTML = docLinkHtml;\n",
              "        element.appendChild(docLink);\n",
              "      }\n",
              "    </script>\n",
              "  </div>\n",
              "\n",
              "\n",
              "    <div id=\"df-2280c206-27b0-48e6-acce-b5938cb3b50d\">\n",
              "      <button class=\"colab-df-quickchart\" onclick=\"quickchart('df-2280c206-27b0-48e6-acce-b5938cb3b50d')\"\n",
              "                title=\"Suggest charts\"\n",
              "                style=\"display:none;\">\n",
              "\n",
              "<svg xmlns=\"http://www.w3.org/2000/svg\" height=\"24px\"viewBox=\"0 0 24 24\"\n",
              "     width=\"24px\">\n",
              "    <g>\n",
              "        <path d=\"M19 3H5c-1.1 0-2 .9-2 2v14c0 1.1.9 2 2 2h14c1.1 0 2-.9 2-2V5c0-1.1-.9-2-2-2zM9 17H7v-7h2v7zm4 0h-2V7h2v10zm4 0h-2v-4h2v4z\"/>\n",
              "    </g>\n",
              "</svg>\n",
              "      </button>\n",
              "\n",
              "<style>\n",
              "  .colab-df-quickchart {\n",
              "      --bg-color: #E8F0FE;\n",
              "      --fill-color: #1967D2;\n",
              "      --hover-bg-color: #E2EBFA;\n",
              "      --hover-fill-color: #174EA6;\n",
              "      --disabled-fill-color: #AAA;\n",
              "      --disabled-bg-color: #DDD;\n",
              "  }\n",
              "\n",
              "  [theme=dark] .colab-df-quickchart {\n",
              "      --bg-color: #3B4455;\n",
              "      --fill-color: #D2E3FC;\n",
              "      --hover-bg-color: #434B5C;\n",
              "      --hover-fill-color: #FFFFFF;\n",
              "      --disabled-bg-color: #3B4455;\n",
              "      --disabled-fill-color: #666;\n",
              "  }\n",
              "\n",
              "  .colab-df-quickchart {\n",
              "    background-color: var(--bg-color);\n",
              "    border: none;\n",
              "    border-radius: 50%;\n",
              "    cursor: pointer;\n",
              "    display: none;\n",
              "    fill: var(--fill-color);\n",
              "    height: 32px;\n",
              "    padding: 0;\n",
              "    width: 32px;\n",
              "  }\n",
              "\n",
              "  .colab-df-quickchart:hover {\n",
              "    background-color: var(--hover-bg-color);\n",
              "    box-shadow: 0 1px 2px rgba(60, 64, 67, 0.3), 0 1px 3px 1px rgba(60, 64, 67, 0.15);\n",
              "    fill: var(--button-hover-fill-color);\n",
              "  }\n",
              "\n",
              "  .colab-df-quickchart-complete:disabled,\n",
              "  .colab-df-quickchart-complete:disabled:hover {\n",
              "    background-color: var(--disabled-bg-color);\n",
              "    fill: var(--disabled-fill-color);\n",
              "    box-shadow: none;\n",
              "  }\n",
              "\n",
              "  .colab-df-spinner {\n",
              "    border: 2px solid var(--fill-color);\n",
              "    border-color: transparent;\n",
              "    border-bottom-color: var(--fill-color);\n",
              "    animation:\n",
              "      spin 1s steps(1) infinite;\n",
              "  }\n",
              "\n",
              "  @keyframes spin {\n",
              "    0% {\n",
              "      border-color: transparent;\n",
              "      border-bottom-color: var(--fill-color);\n",
              "      border-left-color: var(--fill-color);\n",
              "    }\n",
              "    20% {\n",
              "      border-color: transparent;\n",
              "      border-left-color: var(--fill-color);\n",
              "      border-top-color: var(--fill-color);\n",
              "    }\n",
              "    30% {\n",
              "      border-color: transparent;\n",
              "      border-left-color: var(--fill-color);\n",
              "      border-top-color: var(--fill-color);\n",
              "      border-right-color: var(--fill-color);\n",
              "    }\n",
              "    40% {\n",
              "      border-color: transparent;\n",
              "      border-right-color: var(--fill-color);\n",
              "      border-top-color: var(--fill-color);\n",
              "    }\n",
              "    60% {\n",
              "      border-color: transparent;\n",
              "      border-right-color: var(--fill-color);\n",
              "    }\n",
              "    80% {\n",
              "      border-color: transparent;\n",
              "      border-right-color: var(--fill-color);\n",
              "      border-bottom-color: var(--fill-color);\n",
              "    }\n",
              "    90% {\n",
              "      border-color: transparent;\n",
              "      border-bottom-color: var(--fill-color);\n",
              "    }\n",
              "  }\n",
              "</style>\n",
              "\n",
              "      <script>\n",
              "        async function quickchart(key) {\n",
              "          const quickchartButtonEl =\n",
              "            document.querySelector('#' + key + ' button');\n",
              "          quickchartButtonEl.disabled = true;  // To prevent multiple clicks.\n",
              "          quickchartButtonEl.classList.add('colab-df-spinner');\n",
              "          try {\n",
              "            const charts = await google.colab.kernel.invokeFunction(\n",
              "                'suggestCharts', [key], {});\n",
              "          } catch (error) {\n",
              "            console.error('Error during call to suggestCharts:', error);\n",
              "          }\n",
              "          quickchartButtonEl.classList.remove('colab-df-spinner');\n",
              "          quickchartButtonEl.classList.add('colab-df-quickchart-complete');\n",
              "        }\n",
              "        (() => {\n",
              "          let quickchartButtonEl =\n",
              "            document.querySelector('#df-2280c206-27b0-48e6-acce-b5938cb3b50d button');\n",
              "          quickchartButtonEl.style.display =\n",
              "            google.colab.kernel.accessAllowed ? 'block' : 'none';\n",
              "        })();\n",
              "      </script>\n",
              "    </div>\n",
              "\n",
              "  <div id=\"id_98c6528a-de6a-4643-8e3d-5ba2c91e3e67\">\n",
              "    <style>\n",
              "      .colab-df-generate {\n",
              "        background-color: #E8F0FE;\n",
              "        border: none;\n",
              "        border-radius: 50%;\n",
              "        cursor: pointer;\n",
              "        display: none;\n",
              "        fill: #1967D2;\n",
              "        height: 32px;\n",
              "        padding: 0 0 0 0;\n",
              "        width: 32px;\n",
              "      }\n",
              "\n",
              "      .colab-df-generate:hover {\n",
              "        background-color: #E2EBFA;\n",
              "        box-shadow: 0px 1px 2px rgba(60, 64, 67, 0.3), 0px 1px 3px 1px rgba(60, 64, 67, 0.15);\n",
              "        fill: #174EA6;\n",
              "      }\n",
              "\n",
              "      [theme=dark] .colab-df-generate {\n",
              "        background-color: #3B4455;\n",
              "        fill: #D2E3FC;\n",
              "      }\n",
              "\n",
              "      [theme=dark] .colab-df-generate:hover {\n",
              "        background-color: #434B5C;\n",
              "        box-shadow: 0px 1px 3px 1px rgba(0, 0, 0, 0.15);\n",
              "        filter: drop-shadow(0px 1px 2px rgba(0, 0, 0, 0.3));\n",
              "        fill: #FFFFFF;\n",
              "      }\n",
              "    </style>\n",
              "    <button class=\"colab-df-generate\" onclick=\"generateWithVariable('df')\"\n",
              "            title=\"Generate code using this dataframe.\"\n",
              "            style=\"display:none;\">\n",
              "\n",
              "  <svg xmlns=\"http://www.w3.org/2000/svg\" height=\"24px\"viewBox=\"0 0 24 24\"\n",
              "       width=\"24px\">\n",
              "    <path d=\"M7,19H8.4L18.45,9,17,7.55,7,17.6ZM5,21V16.75L18.45,3.32a2,2,0,0,1,2.83,0l1.4,1.43a1.91,1.91,0,0,1,.58,1.4,1.91,1.91,0,0,1-.58,1.4L9.25,21ZM18.45,9,17,7.55Zm-12,3A5.31,5.31,0,0,0,4.9,8.1,5.31,5.31,0,0,0,1,6.5,5.31,5.31,0,0,0,4.9,4.9,5.31,5.31,0,0,0,6.5,1,5.31,5.31,0,0,0,8.1,4.9,5.31,5.31,0,0,0,12,6.5,5.46,5.46,0,0,0,6.5,12Z\"/>\n",
              "  </svg>\n",
              "    </button>\n",
              "    <script>\n",
              "      (() => {\n",
              "      const buttonEl =\n",
              "        document.querySelector('#id_98c6528a-de6a-4643-8e3d-5ba2c91e3e67 button.colab-df-generate');\n",
              "      buttonEl.style.display =\n",
              "        google.colab.kernel.accessAllowed ? 'block' : 'none';\n",
              "\n",
              "      buttonEl.onclick = () => {\n",
              "        google.colab.notebook.generateWithVariable('df');\n",
              "      }\n",
              "      })();\n",
              "    </script>\n",
              "  </div>\n",
              "\n",
              "    </div>\n",
              "  </div>\n"
            ],
            "application/vnd.google.colaboratory.intrinsic+json": {
              "type": "dataframe",
              "variable_name": "df",
              "summary": "{\n  \"name\": \"df\",\n  \"rows\": 10868,\n  \"fields\": [\n    {\n      \"column\": \"Year\",\n      \"properties\": {\n        \"dtype\": \"number\",\n        \"std\": 5,\n        \"min\": 1999,\n        \"max\": 2017,\n        \"num_unique_values\": 19,\n        \"samples\": [\n          2017,\n          2013,\n          2006\n        ],\n        \"semantic_type\": \"\",\n        \"description\": \"\"\n      }\n    },\n    {\n      \"column\": \"Cause Name\",\n      \"properties\": {\n        \"dtype\": \"category\",\n        \"num_unique_values\": 11,\n        \"samples\": [\n          \"Diabetes\",\n          \"Unintentional injuries\",\n          \"Cancer\"\n        ],\n        \"semantic_type\": \"\",\n        \"description\": \"\"\n      }\n    },\n    {\n      \"column\": \"State\",\n      \"properties\": {\n        \"dtype\": \"category\",\n        \"num_unique_values\": 52,\n        \"samples\": [\n          \"Louisiana\",\n          \"South Carolina\",\n          \"Virginia\"\n        ],\n        \"semantic_type\": \"\",\n        \"description\": \"\"\n      }\n    },\n    {\n      \"column\": \"Deaths\",\n      \"properties\": {\n        \"dtype\": \"number\",\n        \"std\": 112876,\n        \"min\": 21,\n        \"max\": 2813503,\n        \"num_unique_values\": 5964,\n        \"samples\": [\n          15264,\n          1084,\n          7895\n        ],\n        \"semantic_type\": \"\",\n        \"description\": \"\"\n      }\n    },\n    {\n      \"column\": \"Age-adjusted Death Rate\",\n      \"properties\": {\n        \"dtype\": \"number\",\n        \"std\": 223.63977149865391,\n        \"min\": 2.6,\n        \"max\": 1087.3,\n        \"num_unique_values\": 2490,\n        \"samples\": [\n          674.2,\n          721.1,\n          142.2\n        ],\n        \"semantic_type\": \"\",\n        \"description\": \"\"\n      }\n    }\n  ]\n}"
            }
          },
          "metadata": {},
          "execution_count": 8
        }
      ],
      "source": [
        "df\n"
      ]
    },
    {
      "cell_type": "markdown",
      "metadata": {
        "id": "yreurgkNNBrT"
      },
      "source": [
        "### encoding and rename columns\n"
      ]
    },
    {
      "cell_type": "code",
      "execution_count": null,
      "metadata": {
        "id": "qLekzj5NKw8l"
      },
      "outputs": [],
      "source": [
        "from sklearn.preprocessing import LabelEncoder\n",
        "\n",
        "label_encoder = LabelEncoder()\n",
        "df['Cause Name'] = label_encoder.fit_transform(df['Cause Name'])\n",
        "df['State'] = label_encoder.fit_transform(df['State'])"
      ]
    },
    {
      "cell_type": "code",
      "execution_count": null,
      "metadata": {
        "id": "qcd2vC-bLaU0"
      },
      "outputs": [],
      "source": [
        "df = df.rename(columns={'Cause Name': 'Cause','Age-adjusted Death Rate':'Death-Rate'})"
      ]
    },
    {
      "cell_type": "code",
      "execution_count": null,
      "metadata": {
        "colab": {
          "base_uri": "https://localhost:8080/"
        },
        "id": "wGy0KKBxLVYE",
        "outputId": "dbda5fcd-a803-40ad-b293-62790770bf85"
      },
      "outputs": [
        {
          "output_type": "stream",
          "name": "stdout",
          "text": [
            "<class 'pandas.core.frame.DataFrame'>\n",
            "RangeIndex: 10868 entries, 0 to 10867\n",
            "Data columns (total 5 columns):\n",
            " #   Column      Non-Null Count  Dtype  \n",
            "---  ------      --------------  -----  \n",
            " 0   Year        10868 non-null  int64  \n",
            " 1   Cause       10868 non-null  int64  \n",
            " 2   State       10868 non-null  int64  \n",
            " 3   Deaths      10868 non-null  int64  \n",
            " 4   Death-Rate  10868 non-null  float64\n",
            "dtypes: float64(1), int64(4)\n",
            "memory usage: 424.7 KB\n"
          ]
        }
      ],
      "source": [
        "df.info()"
      ]
    },
    {
      "cell_type": "markdown",
      "metadata": {
        "id": "KURAxcMoNJGP"
      },
      "source": [
        "### outliers"
      ]
    },
    {
      "cell_type": "code",
      "execution_count": null,
      "metadata": {
        "colab": {
          "base_uri": "https://localhost:8080/",
          "height": 646
        },
        "id": "jMxBdYBaJKqo",
        "outputId": "329c11fc-ace3-4dfc-b262-b9fb29028452"
      },
      "outputs": [
        {
          "output_type": "display_data",
          "data": {
            "text/plain": [
              "<Figure size 1500x1000 with 9 Axes>"
            ],
            "image/png": "[encoded data removed]"
          },
          "metadata": {}
        }
      ],
      "source": [
        "columns = df.columns[:]\n",
        "\n",
        "fig, axes = plt.subplots(nrows=3, ncols=3, figsize=(15, 10))\n",
        "axes = axes.flatten()\n",
        "\n",
        "for i, column in enumerate(columns):\n",
        "    axes[i].boxplot(df[column])\n",
        "    axes[i].set_title(column)\n",
        "\n",
        "for i in range(len(columns), len(axes)):\n",
        "    axes[i].set_visible(False)\n",
        "\n",
        "plt.tight_layout()\n",
        "plt.show()"
      ]
    },
    {
      "cell_type": "markdown",
      "metadata": {
        "id": "fv8bNV3lNLtc"
      },
      "source": [
        "### correlation"
      ]
    },
    {
      "cell_type": "code",
      "execution_count": null,
      "metadata": {
        "colab": {
          "base_uri": "https://localhost:8080/",
          "height": 206
        },
        "id": "WkG2MkBPEr-p",
        "outputId": "acf71e13-7f95-4e6c-d822-afb6d756714d"
      },
      "outputs": [
        {
          "output_type": "execute_result",
          "data": {
            "text/plain": [
              "                    Year         Cause         State    Deaths  Death-Rate\n",
              "Year        1.000000e+00  6.563524e-15 -3.589485e-15  0.004417   -0.038853\n",
              "Cause       6.563524e-15  1.000000e+00  6.207252e-17 -0.128883   -0.533860\n",
              "State      -3.589485e-15  6.207252e-17  1.000000e+00  0.078236    0.001609\n",
              "Deaths      4.417442e-03 -1.288831e-01  7.823617e-02  1.000000    0.231048\n",
              "Death-Rate -3.885293e-02 -5.338601e-01  1.608964e-03  0.231048    1.000000"
            ],
            "text/html": [
              "\n",
              "  <div id=\"df-a3ac0e55-0492-459e-95eb-77973a062873\" class=\"colab-df-container\">\n",
              "    <div>\n",
              "<style scoped>\n",
              "    .dataframe tbody tr th:only-of-type {\n",
              "        vertical-align: middle;\n",
              "    }\n",
              "\n",
              "    .dataframe tbody tr th {\n",
              "        vertical-align: top;\n",
              "    }\n",
              "\n",
              "    .dataframe thead th {\n",
              "        text-align: right;\n",
              "    }\n",
              "</style>\n",
              "<table border=\"1\" class=\"dataframe\">\n",
              "  <thead>\n",
              "    <tr style=\"text-align: right;\">\n",
              "      <th></th>\n",
              "      <th>Year</th>\n",
              "      <th>Cause</th>\n",
              "      <th>State</th>\n",
              "      <th>Deaths</th>\n",
              "      <th>Death-Rate</th>\n",
              "    </tr>\n",
              "  </thead>\n",
              "  <tbody>\n",
              "    <tr>\n",
              "      <th>Year</th>\n",
              "      <td>1.000000e+00</td>\n",
              "      <td>6.563524e-15</td>\n",
              "      <td>-3.589485e-15</td>\n",
              "      <td>0.004417</td>\n",
              "      <td>-0.038853</td>\n",
              "    </tr>\n",
              "    <tr>\n",
              "      <th>Cause</th>\n",
              "      <td>6.563524e-15</td>\n",
              "      <td>1.000000e+00</td>\n",
              "      <td>6.207252e-17</td>\n",
              "      <td>-0.128883</td>\n",
              "      <td>-0.533860</td>\n",
              "    </tr>\n",
              "    <tr>\n",
              "      <th>State</th>\n",
              "      <td>-3.589485e-15</td>\n",
              "      <td>6.207252e-17</td>\n",
              "      <td>1.000000e+00</td>\n",
              "      <td>0.078236</td>\n",
              "      <td>0.001609</td>\n",
              "    </tr>\n",
              "    <tr>\n",
              "      <th>Deaths</th>\n",
              "      <td>4.417442e-03</td>\n",
              "      <td>-1.288831e-01</td>\n",
              "      <td>7.823617e-02</td>\n",
              "      <td>1.000000</td>\n",
              "      <td>0.231048</td>\n",
              "    </tr>\n",
              "    <tr>\n",
              "      <th>Death-Rate</th>\n",
              "      <td>-3.885293e-02</td>\n",
              "      <td>-5.338601e-01</td>\n",
              "      <td>1.608964e-03</td>\n",
              "      <td>0.231048</td>\n",
              "      <td>1.000000</td>\n",
              "    </tr>\n",
              "  </tbody>\n",
              "</table>\n",
              "</div>\n",
              "    <div class=\"colab-df-buttons\">\n",
              "\n",
              "  <div class=\"colab-df-container\">\n",
              "    <button class=\"colab-df-convert\" onclick=\"convertToInteractive('df-a3ac0e55-0492-459e-95eb-77973a062873')\"\n",
              "            title=\"Convert this dataframe to an interactive table.\"\n",
              "            style=\"display:none;\">\n",
              "\n",
              "  <svg xmlns=\"http://www.w3.org/2000/svg\" height=\"24px\" viewBox=\"0 -960 960 960\">\n",
              "    <path d=\"M120-120v-720h720v720H120Zm60-500h600v-160H180v160Zm220 220h160v-160H400v160Zm0 220h160v-160H400v160ZM180-400h160v-160H180v160Zm440 0h160v-160H620v160ZM180-180h160v-160H180v160Zm440 0h160v-160H620v160Z\"/>\n",
              "  </svg>\n",
              "    </button>\n",
              "\n",
              "  <style>\n",
              "    .colab-df-container {\n",
              "      display:flex;\n",
              "      gap: 12px;\n",
              "    }\n",
              "\n",
              "    .colab-df-convert {\n",
              "      background-color: #E8F0FE;\n",
              "      border: none;\n",
              "      border-radius: 50%;\n",
              "      cursor: pointer;\n",
              "      display: none;\n",
              "      fill: #1967D2;\n",
              "      height: 32px;\n",
              "      padding: 0 0 0 0;\n",
              "      width: 32px;\n",
              "    }\n",
              "\n",
              "    .colab-df-convert:hover {\n",
              "      background-color: #E2EBFA;\n",
              "      box-shadow: 0px 1px 2px rgba(60, 64, 67, 0.3), 0px 1px 3px 1px rgba(60, 64, 67, 0.15);\n",
              "      fill: #174EA6;\n",
              "    }\n",
              "\n",
              "    .colab-df-buttons div {\n",
              "      margin-bottom: 4px;\n",
              "    }\n",
              "\n",
              "    [theme=dark] .colab-df-convert {\n",
              "      background-color: #3B4455;\n",
              "      fill: #D2E3FC;\n",
              "    }\n",
              "\n",
              "    [theme=dark] .colab-df-convert:hover {\n",
              "      background-color: #434B5C;\n",
              "      box-shadow: 0px 1px 3px 1px rgba(0, 0, 0, 0.15);\n",
              "      filter: drop-shadow(0px 1px 2px rgba(0, 0, 0, 0.3));\n",
              "      fill: #FFFFFF;\n",
              "    }\n",
              "  </style>\n",
              "\n",
              "    <script>\n",
              "      const buttonEl =\n",
              "        document.querySelector('#df-a3ac0e55-0492-459e-95eb-77973a062873 button.colab-df-convert');\n",
              "      buttonEl.style.display =\n",
              "        google.colab.kernel.accessAllowed ? 'block' : 'none';\n",
              "\n",
              "      async function convertToInteractive(key) {\n",
              "        const element = document.querySelector('#df-a3ac0e55-0492-459e-95eb-77973a062873');\n",
              "        const dataTable =\n",
              "          await google.colab.kernel.invokeFunction('convertToInteractive',\n",
              "                                                    [key], {});\n",
              "        if (!dataTable) return;\n",
              "\n",
              "        const docLinkHtml = 'Like what you see? Visit the ' +\n",
              "          '<a target=\"_blank\" href=https://colab.research.google.com/notebooks/data_table.ipynb>data table notebook</a>'\n",
              "          + ' to learn more about interactive tables.';\n",
              "        element.innerHTML = '';\n",
              "        dataTable['output_type'] = 'display_data';\n",
              "        await google.colab.output.renderOutput(dataTable, element);\n",
              "        const docLink = document.createElement('div');\n",
              "        docLink.innerHTML = docLinkHtml;\n",
              "        element.appendChild(docLink);\n",
              "      }\n",
              "    </script>\n",
              "  </div>\n",
              "\n",
              "\n",
              "    <div id=\"df-df2010b7-e18d-418a-b679-78bb8ba949bd\">\n",
              "      <button class=\"colab-df-quickchart\" onclick=\"quickchart('df-df2010b7-e18d-418a-b679-78bb8ba949bd')\"\n",
              "                title=\"Suggest charts\"\n",
              "                style=\"display:none;\">\n",
              "\n",
              "<svg xmlns=\"http://www.w3.org/2000/svg\" height=\"24px\"viewBox=\"0 0 24 24\"\n",
              "     width=\"24px\">\n",
              "    <g>\n",
              "        <path d=\"M19 3H5c-1.1 0-2 .9-2 2v14c0 1.1.9 2 2 2h14c1.1 0 2-.9 2-2V5c0-1.1-.9-2-2-2zM9 17H7v-7h2v7zm4 0h-2V7h2v10zm4 0h-2v-4h2v4z\"/>\n",
              "    </g>\n",
              "</svg>\n",
              "      </button>\n",
              "\n",
              "<style>\n",
              "  .colab-df-quickchart {\n",
              "      --bg-color: #E8F0FE;\n",
              "      --fill-color: #1967D2;\n",
              "      --hover-bg-color: #E2EBFA;\n",
              "      --hover-fill-color: #174EA6;\n",
              "      --disabled-fill-color: #AAA;\n",
              "      --disabled-bg-color: #DDD;\n",
              "  }\n",
              "\n",
              "  [theme=dark] .colab-df-quickchart {\n",
              "      --bg-color: #3B4455;\n",
              "      --fill-color: #D2E3FC;\n",
              "      --hover-bg-color: #434B5C;\n",
              "      --hover-fill-color: #FFFFFF;\n",
              "      --disabled-bg-color: #3B4455;\n",
              "      --disabled-fill-color: #666;\n",
              "  }\n",
              "\n",
              "  .colab-df-quickchart {\n",
              "    background-color: var(--bg-color);\n",
              "    border: none;\n",
              "    border-radius: 50%;\n",
              "    cursor: pointer;\n",
              "    display: none;\n",
              "    fill: var(--fill-color);\n",
              "    height: 32px;\n",
              "    padding: 0;\n",
              "    width: 32px;\n",
              "  }\n",
              "\n",
              "  .colab-df-quickchart:hover {\n",
              "    background-color: var(--hover-bg-color);\n",
              "    box-shadow: 0 1px 2px rgba(60, 64, 67, 0.3), 0 1px 3px 1px rgba(60, 64, 67, 0.15);\n",
              "    fill: var(--button-hover-fill-color);\n",
              "  }\n",
              "\n",
              "  .colab-df-quickchart-complete:disabled,\n",
              "  .colab-df-quickchart-complete:disabled:hover {\n",
              "    background-color: var(--disabled-bg-color);\n",
              "    fill: var(--disabled-fill-color);\n",
              "    box-shadow: none;\n",
              "  }\n",
              "\n",
              "  .colab-df-spinner {\n",
              "    border: 2px solid var(--fill-color);\n",
              "    border-color: transparent;\n",
              "    border-bottom-color: var(--fill-color);\n",
              "    animation:\n",
              "      spin 1s steps(1) infinite;\n",
              "  }\n",
              "\n",
              "  @keyframes spin {\n",
              "    0% {\n",
              "      border-color: transparent;\n",
              "      border-bottom-color: var(--fill-color);\n",
              "      border-left-color: var(--fill-color);\n",
              "    }\n",
              "    20% {\n",
              "      border-color: transparent;\n",
              "      border-left-color: var(--fill-color);\n",
              "      border-top-color: var(--fill-color);\n",
              "    }\n",
              "    30% {\n",
              "      border-color: transparent;\n",
              "      border-left-color: var(--fill-color);\n",
              "      border-top-color: var(--fill-color);\n",
              "      border-right-color: var(--fill-color);\n",
              "    }\n",
              "    40% {\n",
              "      border-color: transparent;\n",
              "      border-right-color: var(--fill-color);\n",
              "      border-top-color: var(--fill-color);\n",
              "    }\n",
              "    60% {\n",
              "      border-color: transparent;\n",
              "      border-right-color: var(--fill-color);\n",
              "    }\n",
              "    80% {\n",
              "      border-color: transparent;\n",
              "      border-right-color: var(--fill-color);\n",
              "      border-bottom-color: var(--fill-color);\n",
              "    }\n",
              "    90% {\n",
              "      border-color: transparent;\n",
              "      border-bottom-color: var(--fill-color);\n",
              "    }\n",
              "  }\n",
              "</style>\n",
              "\n",
              "      <script>\n",
              "        async function quickchart(key) {\n",
              "          const quickchartButtonEl =\n",
              "            document.querySelector('#' + key + ' button');\n",
              "          quickchartButtonEl.disabled = true;  // To prevent multiple clicks.\n",
              "          quickchartButtonEl.classList.add('colab-df-spinner');\n",
              "          try {\n",
              "            const charts = await google.colab.kernel.invokeFunction(\n",
              "                'suggestCharts', [key], {});\n",
              "          } catch (error) {\n",
              "            console.error('Error during call to suggestCharts:', error);\n",
              "          }\n",
              "          quickchartButtonEl.classList.remove('colab-df-spinner');\n",
              "          quickchartButtonEl.classList.add('colab-df-quickchart-complete');\n",
              "        }\n",
              "        (() => {\n",
              "          let quickchartButtonEl =\n",
              "            document.querySelector('#df-df2010b7-e18d-418a-b679-78bb8ba949bd button');\n",
              "          quickchartButtonEl.style.display =\n",
              "            google.colab.kernel.accessAllowed ? 'block' : 'none';\n",
              "        })();\n",
              "      </script>\n",
              "    </div>\n",
              "\n",
              "    </div>\n",
              "  </div>\n"
            ],
            "application/vnd.google.colaboratory.intrinsic+json": {
              "type": "dataframe",
              "summary": "{\n  \"name\": \"df\",\n  \"rows\": 5,\n  \"fields\": [\n    {\n      \"column\": \"Year\",\n      \"properties\": {\n        \"dtype\": \"number\",\n        \"std\": 0.4514050565561028,\n        \"min\": -0.03885293387316683,\n        \"max\": 1.0,\n        \"num_unique_values\": 5,\n        \"samples\": [\n          6.563523902273522e-15,\n          -0.03885293387316683,\n          -3.58948486379149e-15\n        ],\n        \"semantic_type\": \"\",\n        \"description\": \"\"\n      }\n    },\n    {\n      \"column\": \"Cause\",\n      \"properties\": {\n        \"dtype\": \"number\",\n        \"std\": 0.5654354732221895,\n        \"min\": -0.5338601407026585,\n        \"max\": 1.0,\n        \"num_unique_values\": 5,\n        \"samples\": [\n          1.0,\n          -0.5338601407026585,\n          6.207251778744488e-17\n        ],\n        \"semantic_type\": \"\",\n        \"description\": \"\"\n      }\n    },\n    {\n      \"column\": \"State\",\n      \"properties\": {\n        \"dtype\": \"number\",\n        \"std\": 0.4395766096941208,\n        \"min\": -3.58948486379149e-15,\n        \"max\": 1.0,\n        \"num_unique_values\": 5,\n        \"samples\": [\n          6.207251778744488e-17,\n          0.001608964127949962,\n          1.0\n        ],\n        \"semantic_type\": \"\",\n        \"description\": \"\"\n      }\n    },\n    {\n      \"column\": \"Deaths\",\n      \"properties\": {\n        \"dtype\": \"number\",\n        \"std\": 0.4459191340628285,\n        \"min\": -0.12888314725019165,\n        \"max\": 1.0,\n        \"num_unique_values\": 5,\n        \"samples\": [\n          -0.12888314725019165,\n          0.23104793715192032,\n          0.07823617421527489\n        ],\n        \"semantic_type\": \"\",\n        \"description\": \"\"\n      }\n    },\n    {\n      \"column\": \"Death-Rate\",\n      \"properties\": {\n        \"dtype\": \"number\",\n        \"std\": 0.5596420211725488,\n        \"min\": -0.5338601407026585,\n        \"max\": 1.0,\n        \"num_unique_values\": 5,\n        \"samples\": [\n          -0.5338601407026585,\n          1.0,\n          0.001608964127949962\n        ],\n        \"semantic_type\": \"\",\n        \"description\": \"\"\n      }\n    }\n  ]\n}"
            }
          },
          "metadata": {},
          "execution_count": 13
        }
      ],
      "source": [
        "df.corr()"
      ]
    },
    {
      "cell_type": "code",
      "execution_count": null,
      "metadata": {
        "colab": {
          "base_uri": "https://localhost:8080/",
          "height": 601
        },
        "id": "lF9m8WpEFBek",
        "outputId": "74144199-9a02-4312-f395-19b3d2355f74"
      },
      "outputs": [
        {
          "output_type": "display_data",
          "data": {
            "text/plain": [
              "<Figure size 800x600 with 2 Axes>"
            ],
            "image/png": "[encoded data removed]"
          },
          "metadata": {}
        }
      ],
      "source": [
        "corr_matrix = df.corr()\n",
        "\n",
        "plt.figure(figsize=(8, 6))\n",
        "sns.heatmap(corr_matrix, annot=True, cmap='coolwarm', center=0,\n",
        "            square=True, fmt='.2f')\n",
        "plt.title('Correlation Matrix Heatmap')\n",
        "plt.tight_layout()\n",
        "plt.show()"
      ]
    },
    {
      "cell_type": "markdown",
      "metadata": {
        "id": "dTtVRmAGquu5"
      },
      "source": [
        "### questions for visualization"
      ]
    },
    {
      "cell_type": "code",
      "execution_count": null,
      "metadata": {
        "id": "01qPhNX8NcRT"
      },
      "outputs": [],
      "source": [
        "def plot_top_states(df):\n",
        "    plt.figure(figsize=(10, 6))\n",
        "    top_states = df.groupby('State')['Death-Rate'].mean().nlargest(10)\n",
        "\n",
        "    ax = sns.barplot(x=top_states.values, y=top_states.index, palette='viridis')\n",
        "\n",
        "    plt.title(\"Top 10 States by Average Death-Rate\", pad=15)\n",
        "    plt.xlabel(\"Average Death-Rate\")\n",
        "    plt.ylabel(\"\")\n",
        "    plt.xlim(0, top_states.max() * 1.3)\n",
        "    plt.tight_layout()\n",
        "\n",
        "    return plt.gcf()"
      ]
    },
    {
      "cell_type": "code",
      "execution_count": null,
      "metadata": {
        "id": "3XCA_uVrP-n5"
      },
      "outputs": [],
      "source": [
        "def plot_death_trends(df):\n",
        "    fig, ax = plt.subplots(figsize=(8, 5))\n",
        "    sns.lineplot(data=df, x='Year', y='Death-Rate', errorbar=None, ax=ax)\n",
        "\n",
        "    ax.set_title('Death Rate Trends Over Time')\n",
        "    ax.set_xlabel('Year')\n",
        "    ax.set_ylabel('Death-Rate')\n",
        "\n",
        "    plt.tight_layout()\n",
        "    return fig"
      ]
    },
    {
      "cell_type": "code",
      "execution_count": null,
      "metadata": {
        "id": "DdCS6E8OQDRC"
      },
      "outputs": [],
      "source": [
        "def plot_cause_distribution(df):\n",
        "    fig, ax = plt.subplots(figsize=(8, 5))\n",
        "    sns.boxplot(data=df, x='Cause', y='Death-Rate', ax=ax)\n",
        "\n",
        "    ax.set_title('Death Rate Distribution by Cause')\n",
        "    ax.set_xlabel('Cause of Death')\n",
        "    ax.set_ylabel('Death-Rate')\n",
        "    plt.xticks(rotation=45)\n",
        "\n",
        "    plt.tight_layout()\n",
        "    return fig"
      ]
    },
    {
      "cell_type": "code",
      "execution_count": null,
      "metadata": {
        "id": "H0eb6cA2QKxr"
      },
      "outputs": [],
      "source": [
        "def plot_deaths_vs_rate(df):\n",
        "    fig, ax = plt.subplots(figsize=(8, 5))\n",
        "    sns.scatterplot(data=df, x='Deaths', y='Death-Rate', alpha=0.6, ax=ax)\n",
        "\n",
        "    ax.set_title('Deaths vs. Death Rate')\n",
        "    ax.set_xlabel('Number of Deaths')\n",
        "    ax.set_ylabel('Death-Rate')\n",
        "\n",
        "    plt.tight_layout()\n",
        "    return fig"
      ]
    },
    {
      "cell_type": "code",
      "source": [
        "def plot_model_errors(final_results):\n",
        "    fig, ax = plt.subplots(figsize=(8, 5))\n",
        "    errors = {model: final_results['test_actuals'] - final_results['predictions'][model]\n",
        "             for model in final_results['predictions']}\n",
        "    sns.boxplot(data=pd.DataFrame(errors), ax=ax)\n",
        "    ax.axhline(0, color='red', linestyle='--')\n",
        "\n",
        "    ax.set_title('Prediction Error Distribution by Model')\n",
        "    ax.set_ylabel('Error (Actual - Predicted)')\n",
        "\n",
        "    plt.tight_layout()\n",
        "    return fig"
      ],
      "metadata": {
        "id": "uWosvNt6A-Qr"
      },
      "execution_count": null,
      "outputs": []
    },
    {
      "cell_type": "code",
      "source": [
        "plots = {\n",
        "    \"Top States by Death Rate\": plot_top_states(df),\n",
        "    \"Death Rate Trends Over Time\": plot_death_trends(df),\n",
        "    \"Death Rate by Cause\": plot_cause_distribution(df),\n",
        "    \"Deaths vs. Death Rate\": plot_deaths_vs_rate(df),\n",
        "}"
      ],
      "metadata": {
        "colab": {
          "base_uri": "https://localhost:8080/",
          "height": 1000
        },
        "id": "Elco0Js0A_mO",
        "outputId": "87f12475-3b49-442b-d167-9fab9005de3b"
      },
      "execution_count": null,
      "outputs": [
        {
          "output_type": "stream",
          "name": "stderr",
          "text": [
            "/tmp/ipython-input-2718820265.py:5: FutureWarning: \n",
            "\n",
            "Passing `palette` without assigning `hue` is deprecated and will be removed in v0.14.0. Assign the `x` variable to `hue` and set `legend=False` for the same effect.\n",
            "\n",
            "  ax = sns.barplot(x=top_states.values, y=top_states.index, palette='viridis')\n"
          ]
        },
        {
          "output_type": "display_data",
          "data": {
            "text/plain": [
              "<Figure size 1000x600 with 1 Axes>"
            ],
            "image/png": "[encoded data removed]"
          },
          "metadata": {}
        },
        {
          "output_type": "display_data",
          "data": {
            "text/plain": [
              "<Figure size 800x500 with 1 Axes>"
            ],
            "image/png": "[encoded data removed]"
          },
          "metadata": {}
        },
        {
          "output_type": "display_data",
          "data": {
            "text/plain": [
              "<Figure size 800x500 with 1 Axes>"
            ],
            "image/png": "[encoded data removed]"
          },
          "metadata": {}
        },
        {
          "output_type": "display_data",
          "data": {
            "text/plain": [
              "<Figure size 800x500 with 1 Axes>"
            ],
            "image/png": "[encoded data removed]"
          },
          "metadata": {}
        }
      ]
    },
    {
      "cell_type": "markdown",
      "metadata": {
        "id": "ChM6Gn2bMCbE"
      },
      "source": [
        "## predict cause of death"
      ]
    },
    {
      "cell_type": "markdown",
      "metadata": {
        "id": "jbS3Mkb7B5Yn"
      },
      "source": [
        "## modeling"
      ]
    },
    {
      "cell_type": "markdown",
      "metadata": {
        "id": "eZ5bm-1jBsu6"
      },
      "source": [
        "### training"
      ]
    },
    {
      "cell_type": "code",
      "source": [
        "sns.histplot(df['Death-Rate'], kde=True)\n",
        "plt.title(\"Distribution of Death-Rate\")\n",
        "plt.show()\n",
        "\n",
        "skewness = df['Death-Rate'].skew()\n",
        "print(f\"Skewness: {skewness}\")\n",
        "\n",
        "if abs(skewness) > 1:\n",
        "    df['Death-Rate'] = np.log1p(df['Death-Rate'])\n",
        "    print(\"Applied log transformation to Death-Rate\")\n"
      ],
      "metadata": {
        "colab": {
          "base_uri": "https://localhost:8080/",
          "height": 515
        },
        "id": "NqBb3amwoENB",
        "outputId": "c1d7877a-1eb5-4d22-cbc4-3162fb01eaaf"
      },
      "execution_count": null,
      "outputs": [
        {
          "output_type": "display_data",
          "data": {
            "text/plain": [
              "<Figure size 640x480 with 1 Axes>"
            ],
            "image/png": "[encoded data removed]"
          },
          "metadata": {}
        },
        {
          "output_type": "stream",
          "name": "stdout",
          "text": [
            "Skewness: 2.5554114376342127\n",
            "Applied log transformation to Death-Rate\n"
          ]
        }
      ]
    },
    {
      "cell_type": "markdown",
      "source": [
        "#### identify features and target"
      ],
      "metadata": {
        "id": "opFrg9CCGjRW"
      }
    },
    {
      "cell_type": "code",
      "execution_count": null,
      "metadata": {
        "id": "HJgQ2j9fdPjL"
      },
      "outputs": [],
      "source": [
        "X = df.drop(['Death-Rate'], axis=1)\n",
        "y = df['Death-Rate']"
      ]
    },
    {
      "cell_type": "markdown",
      "source": [
        "#### train-test split"
      ],
      "metadata": {
        "id": "sIlIsENlGuNH"
      }
    },
    {
      "cell_type": "code",
      "execution_count": null,
      "metadata": {
        "id": "GqSOrFszdQ9M"
      },
      "outputs": [],
      "source": [
        "X_train, X_test, y_train, y_test = train_test_split(X, y, test_size=0.2, random_state=42)"
      ]
    },
    {
      "cell_type": "markdown",
      "source": [
        "#### scaling"
      ],
      "metadata": {
        "id": "k53ZM7-cG1Zs"
      }
    },
    {
      "cell_type": "code",
      "execution_count": null,
      "metadata": {
        "id": "I7iXhNfwd8qw"
      },
      "outputs": [],
      "source": [
        "scaler = StandardScaler()\n",
        "X_train_scaled = scaler.fit_transform(X_train)\n",
        "X_test_scaled = scaler.transform(X_test)\n"
      ]
    },
    {
      "cell_type": "markdown",
      "source": [
        "### identify ML models"
      ],
      "metadata": {
        "id": "NHqLwrt1G5R7"
      }
    },
    {
      "cell_type": "code",
      "execution_count": null,
      "metadata": {
        "id": "zS6A7ANzWAgW"
      },
      "outputs": [],
      "source": [
        "models = {\n",
        "    \"Random Forest\": {\n",
        "        \"model\": RandomForestRegressor(random_state=42),\n",
        "        \"params\": {\n",
        "            'n_estimators': [100, 200],\n",
        "            'max_depth': [None, 10, 20],\n",
        "            'min_samples_split': [2, 5]\n",
        "        }\n",
        "    },\n",
        "    \"XGBoost\": {\n",
        "        \"model\": XGBRegressor(random_state=42),\n",
        "        \"params\": {\n",
        "            'n_estimators': [100, 200],\n",
        "            'max_depth': [3, 6],\n",
        "            'learning_rate': [0.01, 0.1]\n",
        "        }\n",
        "    },\n",
        "    \"SVR\": {\n",
        "        \"model\": SVR(),\n",
        "        \"params\": {\n",
        "            'C': [0.1, 1, 10],\n",
        "            'kernel': ['linear', 'rbf'],\n",
        "            'gamma': ['scale', 'auto']\n",
        "        }\n",
        "    },\n",
        "    \"KNN\": {\n",
        "        \"model\": KNeighborsRegressor(),\n",
        "        \"params\": {\n",
        "            'n_neighbors': [3, 5, 7],\n",
        "            'weights': ['uniform', 'distance']\n",
        "        }\n",
        "    }\n",
        "}"
      ]
    },
    {
      "cell_type": "markdown",
      "source": [
        "#### getting scores for each model and get the best of them\n"
      ],
      "metadata": {
        "id": "HU-XzNBDHNc-"
      }
    },
    {
      "cell_type": "code",
      "execution_count": null,
      "metadata": {
        "colab": {
          "base_uri": "https://localhost:8080/"
        },
        "id": "HA5Ng4hWYV8F",
        "outputId": "9e18d023-65a9-4607-9759-d0d0bf899f28"
      },
      "outputs": [
        {
          "output_type": "stream",
          "name": "stdout",
          "text": [
            "\n",
            "=== Tuning Random Forest ===\n",
            "\n",
            "=== Tuning XGBoost ===\n",
            "\n",
            "=== Tuning SVR ===\n",
            "\n",
            "=== Tuning KNN ===\n",
            "\n",
            "=== Final Results ===\n",
            "                RMSE    MAE  Test R2  Train R2\n",
            "Random Forest  0.079  0.052    0.996     0.999\n",
            "XGBoost        0.079  0.057    0.996     0.998\n",
            "SVR            0.714  0.538    0.678     0.666\n",
            "KNN            0.242  0.166    0.963     0.979\n",
            "\n",
            "=== Best Parameters ===\n",
            "Random Forest: {'max_depth': None, 'min_samples_split': 2, 'n_estimators': 200}\n",
            "XGBoost: {'learning_rate': 0.1, 'max_depth': 6, 'n_estimators': 200}\n",
            "SVR: {'C': 10, 'gamma': 'auto', 'kernel': 'rbf'}\n",
            "KNN: {'n_neighbors': 3, 'weights': 'uniform'}\n",
            "\n",
            "Best Model: XGBoost (RMSE: 0.08)\n"
          ]
        }
      ],
      "source": [
        "results = {\n",
        "    'scores': {},\n",
        "    'best_params': {},\n",
        "    'best_model': None,\n",
        "    'best_model_name': None,\n",
        "    'predictions': {}\n",
        "}\n",
        "\n",
        "for name, config in models.items():\n",
        "    print(f\"\\n=== Tuning {name} ===\")\n",
        "\n",
        "    X_tr = X_train_scaled if name in ['SVR', 'KNN'] else X_train\n",
        "    X_te = X_test_scaled if name in ['SVR', 'KNN'] else X_test\n",
        "\n",
        "    grid = GridSearchCV(config['model'], config['params'], cv=5, scoring='r2', n_jobs=-1)\n",
        "    grid.fit(X_tr, y_train)\n",
        "\n",
        "    best_model = grid.best_estimator_\n",
        "\n",
        "    y_train_pred = best_model.predict(X_tr)\n",
        "    y_test_pred = best_model.predict(X_te)\n",
        "\n",
        "    results['scores'][name] = {\n",
        "        'RMSE': np.sqrt(mean_squared_error(y_test, y_test_pred)),\n",
        "        'MAE': mean_absolute_error(y_test, y_test_pred),\n",
        "        'Test R2': r2_score(y_test, y_test_pred),\n",
        "        'Train R2': r2_score(y_train, y_train_pred)\n",
        "    }\n",
        "\n",
        "    results['best_params'][name] = grid.best_params_\n",
        "    results['predictions'][name] = y_test_pred\n",
        "    results[name] = best_model\n",
        "\n",
        "results['best_model_name'] = min(results['scores'], key=lambda x: results['scores'][x]['RMSE'])\n",
        "results['best_model'] = results[results['best_model_name']]\n",
        "\n",
        "print(\"\\n=== Final Results ===\")\n",
        "print(pd.DataFrame(results['scores']).T.round(3))\n",
        "\n",
        "print(\"\\n=== Best Parameters ===\")\n",
        "for name, params in results['best_params'].items():\n",
        "    print(f\"{name}: {params}\")\n",
        "\n",
        "print(f\"\\nBest Model: {results['best_model_name']} (RMSE: {results['scores'][results['best_model_name']]['RMSE']:.2f})\")\n",
        "\n",
        "final_results = {\n",
        "    'model_scores': results['scores'],\n",
        "    'best_params': results['best_params'],\n",
        "    'predictions': results['predictions'],\n",
        "    'best_model': results['best_model'],\n",
        "    'best_model_name': results['best_model_name'],\n",
        "    'test_actuals': y_test.values\n",
        "}"
      ]
    },
    {
      "cell_type": "markdown",
      "metadata": {
        "id": "ik4xOGpnp4yP"
      },
      "source": [
        "## deployment\n"
      ]
    },
    {
      "cell_type": "code",
      "execution_count": null,
      "metadata": {
        "id": "hEEQGoQqeE9j",
        "colab": {
          "base_uri": "https://localhost:8080/",
          "height": 645
        },
        "outputId": "05b4caaa-363e-47e2-e637-90e8ca9bf6da"
      },
      "outputs": [
        {
          "output_type": "stream",
          "name": "stdout",
          "text": [
            "It looks like you are running Gradio on a hosted Jupyter notebook, which requires `share=True`. Automatically setting `share=True` (you can turn this off by setting `share=False` in `launch()` explicitly).\n",
            "\n",
            "Colab notebook detected. To show errors in colab notebook, set debug=True in launch()\n",
            "* Running on public URL: https://3f168b14e9e5583dfb.gradio.live\n",
            "\n",
            "This share link expires in 1 week. For free permanent hosting and GPU upgrades, run `gradio deploy` from the terminal in the working directory to deploy to Hugging Face Spaces (https://huggingface.co/spaces)\n"
          ]
        },
        {
          "output_type": "display_data",
          "data": {
            "text/plain": [
              "<IPython.core.display.HTML object>"
            ],
            "text/html": [
              "<div><iframe src=\"https://3f168b14e9e5583dfb.gradio.live\" width=\"100%\" height=\"500\" allow=\"autoplay; camera; microphone; clipboard-read; clipboard-write;\" frameborder=\"0\" allowfullscreen></iframe></div>"
            ]
          },
          "metadata": {}
        },
        {
          "output_type": "execute_result",
          "data": {
            "text/plain": []
          },
          "metadata": {},
          "execution_count": 27
        }
      ],
      "source": [
        "with gr.Blocks() as demo:\n",
        "    gr.Markdown(\"<div align='center'><h1>Death Rate Prediction Dashboard</h1></div>\")\n",
        "\n",
        "    with gr.Tabs():\n",
        "        with gr.Tab(\"📁 Dataset Overview\"):\n",
        "            gr.Dataframe(value=df)\n",
        "            gr.Textbox(label=\"Dataset Size\", value=f\"Rows: {df.shape[0]}, Columns: {df.shape[1]}\")\n",
        "\n",
        "        with gr.Tab(\"📊 Exploratory Data Analysis\"):\n",
        "            gr.Markdown(\"<div align='center'><h2>📊 EDA</h2></div>\")\n",
        "            for title, plot in plots.items():\n",
        "                gr.Markdown(f\"### {title}\")\n",
        "                gr.Plot(plot)\n",
        "\n",
        "        with gr.Tab(\"✅ Best Model Overview\"):\n",
        "            gr.Markdown(\"## ✅ Best Model Overview\")\n",
        "            gr.Markdown(f\"**Best Model:** `{final_results['best_model_name']}`\")\n",
        "            gr.Markdown(f\"**RMSE:** `{final_results['model_scores'][final_results['best_model_name']]['RMSE']:.2f}`\")\n",
        "            gr.Markdown(f\"**Test R²:** `{final_results['model_scores'][final_results['best_model_name']]['Test R2']:.2f}`\")\n",
        "            gr.Markdown(f\"**Train R²:** `{final_results['model_scores'][final_results['best_model_name']]['Train R2']:.2f}`\")\n",
        "\n",
        "            fig, ax = plt.subplots(figsize=(8, 6))\n",
        "            ax.scatter(final_results['test_actuals'], final_results['predictions'][final_results['best_model_name']])\n",
        "            ax.plot([min(final_results['test_actuals']), max(final_results['test_actuals'])],\n",
        "                    [min(final_results['test_actuals']), max(final_results['test_actuals'])],\n",
        "                    'r--')\n",
        "            ax.set_title(f\"Actual vs Predicted ({final_results['best_model_name']})\")\n",
        "            ax.set_xlabel(\"Actual Death-Rate\")\n",
        "            ax.set_ylabel(\"Predicted Death-Rate\")\n",
        "            gr.Plot(fig)\n",
        "            plt.close()\n",
        "\n",
        "        with gr.Tab(\"📈 Evaluate Any Model\"):\n",
        "          gr.Markdown(\"## 🔍 Evaluate Any Model\")\n",
        "\n",
        "          model_dropdown = gr.Dropdown(\n",
        "              choices=list(final_results['model_scores'].keys()),\n",
        "              value=final_results['best_model_name'],\n",
        "              label=\"Select a Model\"\n",
        "          )\n",
        "\n",
        "          rmse_box = gr.Textbox(label=\"RMSE\")\n",
        "          mae_box = gr.Textbox(label=\"MAE\")\n",
        "          test_r2_box = gr.Textbox(label=\"Test R² (Accuracy)\")\n",
        "          train_r2_box = gr.Textbox(label=\"Train R² (Accuracy)\")\n",
        "          pred_plot = gr.Plot(label=\"Actual vs Predicted\")\n",
        "\n",
        "          def update_model_evaluation(model_name):\n",
        "              scores = final_results['model_scores'][model_name]\n",
        "              predictions = final_results['predictions'][model_name]\n",
        "              actuals = final_results['test_actuals']\n",
        "\n",
        "              # Create Actual vs Predicted plot\n",
        "              fig, ax = plt.subplots(figsize=(8, 6))\n",
        "              ax.scatter(actuals, predictions)\n",
        "              ax.plot(\n",
        "                  [min(actuals), max(actuals)],\n",
        "                  [min(actuals), max(actuals)],\n",
        "                  'r--'\n",
        "              )\n",
        "              ax.set_title(f\"Actual vs Predicted ({model_name})\")\n",
        "              ax.set_xlabel(\"Actual Death-Rate\")\n",
        "              ax.set_ylabel(\"Predicted Death-Rate\")\n",
        "              plt.close()\n",
        "\n",
        "              return (\n",
        "                  f\"{scores['RMSE']:.2f}\",\n",
        "                  f\"{scores['MAE']:.2f}\",\n",
        "                  f\"{scores['Test R2']:.2f}\",\n",
        "                  f\"{scores['Train R2']:.2f}\",\n",
        "                  fig\n",
        "              )\n",
        "\n",
        "          model_dropdown.change(\n",
        "              fn=update_model_evaluation,\n",
        "              inputs=model_dropdown,\n",
        "              outputs=[rmse_box, mae_box, test_r2_box, train_r2_box, pred_plot]\n",
        "          )\n",
        "\n",
        "          demo.load(\n",
        "              fn=lambda: update_model_evaluation(final_results['best_model_name']),\n",
        "              inputs=[],\n",
        "              outputs=[rmse_box, mae_box, test_r2_box, train_r2_box, pred_plot],\n",
        "              queue=False\n",
        "          )\n",
        "\n",
        "\n",
        "        with gr.Tab(\"🤖 Predict Death-Rate\"):\n",
        "            gr.Markdown(\"<div align='center'><h2>🔮 Predict Death-Rate</h2></div>\")\n",
        "\n",
        "            with gr.Row():\n",
        "                input_widgets = []\n",
        "                for col in X.columns:\n",
        "                    if X[col].dtype in ['int64', 'float64']:\n",
        "                        input_widgets.append(gr.Number(label=col))\n",
        "                    else:\n",
        "                        unique_vals = df[col].unique().tolist()\n",
        "                        input_widgets.append(gr.Dropdown(choices=unique_vals, label=col))\n",
        "\n",
        "            predict_btn = gr.Button(\"Predict\")\n",
        "            prediction_output = gr.Textbox(label=\"Predicted Death-Rate\")\n",
        "\n",
        "            def predict_death_rate(*inputs):\n",
        "                input_df = pd.DataFrame([inputs], columns=X.columns)\n",
        "                num_cols = input_df.select_dtypes(include=['int64', 'float64']).columns\n",
        "                input_df[num_cols] = scaler.transform(input_df[num_cols])\n",
        "                prediction = final_results['best_model'].predict(input_df)[0]\n",
        "                return f\"Predicted Death-Rate: {prediction:.2f}\"\n",
        "\n",
        "            predict_btn.click(\n",
        "                fn=predict_death_rate,\n",
        "                inputs=input_widgets,\n",
        "                outputs=prediction_output\n",
        "            )\n",
        "\n",
        "demo.launch()\n"
      ]
    }
  ],
  "metadata": {
    "colab": {
      "provenance": []
    },
    "kernelspec": {
      "display_name": "Python 3",
      "name": "python3"
    },
    "language_info": {
      "name": "python"
    }
  },
  "nbformat": 4,
  "nbformat_minor": 0
}
